{
 "cells": [
  {
   "cell_type": "code",
   "execution_count": 16,
   "metadata": {},
   "outputs": [],
   "source": [
    "from manim import *\n",
    "import random"
   ]
  },
  {
   "cell_type": "code",
   "execution_count": 7,
   "metadata": {},
   "outputs": [],
   "source": [
    "class Bar(Rectangle):\n",
    "    def __init__(self, value, *args, **kwargs):\n",
    "        # Adjust the size of each bar here\n",
    "        super().__init__(width=0.3, height=value * 0.3, fill_opacity=1, fill_color=BLUE, stroke_color=WHITE, *args, **kwargs)\n",
    "        self.value = value\n",
    "        # Adjust the font size to fit the scaled bar\n",
    "        self.text = Text(str(value), font_size=14).move_to(self.get_center())\n",
    "\n",
    "\n",
    "    def get_bar_group(self):\n",
    "        # Group the bar and its text together\n",
    "        return VGroup(self, self.text)"
   ]
  },
  {
   "cell_type": "code",
   "execution_count": 29,
   "metadata": {},
   "outputs": [],
   "source": [
    "class SortArray(VGroup):\n",
    "    def __init__(self, values, *args, **kwargs):\n",
    "        super().__init__(*args, **kwargs)\n",
    "        self.bars = [Bar(value) for value in values]\n",
    "        self.bar_groups = VGroup(*[bar.get_bar_group() for bar in self.bars])\n",
    "        self.bar_groups.arrange(RIGHT, buff=0.1)\n",
    "        for bar_group in self.bar_groups:\n",
    "            self.add(bar_group)\n",
    "    \n",
    "    def swap(self, i, j, run_time=1):\n",
    "        # Swap the visual bars\n",
    "        bar_i_group = self.bar_groups[i]\n",
    "        bar_j_group = self.bar_groups[j]\n",
    "        self.bar_groups[i], self.bar_groups[j] = self.bar_groups[j], self.bar_groups[i]\n",
    "\n",
    "        # Swap the data in the bars list\n",
    "        self.bars[i], self.bars[j] = self.bars[j], self.bars[i]\n",
    "\n",
    "        return AnimationGroup(\n",
    "            bar_i_group.animate.move_to(bar_j_group),\n",
    "            bar_j_group.animate.move_to(bar_i_group),\n",
    "            lag_ratio=1,\n",
    "            run_time=run_time\n",
    "        )\n",
    "    \n",
    "    def scale_down(self, scale_factor):\n",
    "        self.scale(scale_factor)  # Scale down the entire group"
   ]
  },
  {
   "cell_type": "code",
   "execution_count": 31,
   "metadata": {},
   "outputs": [
    {
     "name": "stderr",
     "output_type": "stream",
     "text": [
      "                                                                                               \r"
     ]
    },
    {
     "data": {
      "text/html": [
       "<video src=\"media/jupyter/BubbleSortScene@2024-01-14@15-06-12.mp4\" controls autoplay loop style=\"max-width: 60%;\"  >\n",
       "      Your browser does not support the <code>video</code> element.\n",
       "    </video>"
      ],
      "text/plain": [
       "<IPython.core.display.Video object>"
      ]
     },
     "metadata": {},
     "output_type": "display_data"
    }
   ],
   "source": [
    "class BubbleSortScene(Scene):\n",
    "    CONFIG = {\n",
    "        \"camera_config\": {\"frame_center\": 1*UP}\n",
    "    }\n",
    "        \n",
    "    def construct(self):\n",
    "        values = random.sample(range(1, 16), 8)  # Array of 15 unique numbers\n",
    "        sort_array = SortArray(values)\n",
    "        \n",
    "        # Adjust the position and scale as needed\n",
    "        sort_array.scale_down(0.5)  # You might need to adjust this factor\n",
    "\n",
    "        self.play(Create(sort_array))\n",
    "        \n",
    "        # Zoom out the camera to fit all bars\n",
    "        #self.play(self.camera.scale(1.5))  # Adjust the factor as needed\n",
    "        #print(dir(self.camera))\n",
    "        \n",
    "        # Bubble Sort\n",
    "        for i in range(len(values)):\n",
    "            for j in range(0, len(values)-i-1):\n",
    "                if sort_array.bars[j].value > sort_array.bars[j+1].value:\n",
    "                    self.play(sort_array.swap(j, j+1))\n",
    "\n",
    "        self.wait()\n",
    "\n",
    "%manim -ql -v WARNING BubbleSortScene"
   ]
  },
  {
   "cell_type": "code",
   "execution_count": null,
   "metadata": {},
   "outputs": [],
   "source": []
  },
  {
   "cell_type": "code",
   "execution_count": null,
   "metadata": {},
   "outputs": [],
   "source": []
  }
 ],
 "metadata": {
  "kernelspec": {
   "display_name": "manim",
   "language": "python",
   "name": "python3"
  },
  "language_info": {
   "codemirror_mode": {
    "name": "ipython",
    "version": 3
   },
   "file_extension": ".py",
   "mimetype": "text/x-python",
   "name": "python",
   "nbconvert_exporter": "python",
   "pygments_lexer": "ipython3",
   "version": "3.9.18"
  }
 },
 "nbformat": 4,
 "nbformat_minor": 2
}
