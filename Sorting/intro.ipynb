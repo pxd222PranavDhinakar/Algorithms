{
 "cells": [
  {
   "cell_type": "markdown",
   "metadata": {},
   "source": [
    "# What is Sorting?\n",
    "Sorting is the process of arranging a list of items in a particular order (i.e. ascending, descending, etc.)"
   ]
  },
  {
   "cell_type": "code",
   "execution_count": 1,
   "metadata": {},
   "outputs": [
    {
     "data": {
      "text/html": [
       "<pre style=\"white-space:pre;overflow-x:auto;line-height:normal;font-family:Menlo,'DejaVu Sans Mono',consolas,'Courier New',monospace\">Manim Community <span style=\"color: #008000; text-decoration-color: #008000\">v0.18.0</span>\n",
       "\n",
       "</pre>\n"
      ],
      "text/plain": [
       "Manim Community \u001b[32mv0.\u001b[0m\u001b[32m18.0\u001b[0m\n",
       "\n"
      ]
     },
     "metadata": {},
     "output_type": "display_data"
    }
   ],
   "source": [
    "from manim import *\n",
    "import random\n",
    "#from manim_voiceover import VoiceoverScene\n",
    "#from manim_voiceover.services.recorder import RecorderService"
   ]
  },
  {
   "cell_type": "code",
   "execution_count": 7,
   "metadata": {},
   "outputs": [
    {
     "name": "stderr",
     "output_type": "stream",
     "text": [
      "                                                                                                                                        \r"
     ]
    },
    {
     "data": {
      "text/html": [
       "<video src=\"media/jupyter/Introduction@2024-01-16@12-13-29.mp4\" controls autoplay loop style=\"max-width: 60%;\"  >\n",
       "      Your browser does not support the <code>video</code> element.\n",
       "    </video>"
      ],
      "text/plain": [
       "<IPython.core.display.Video object>"
      ]
     },
     "metadata": {},
     "output_type": "display_data"
    }
   ],
   "source": [
    "# Introducing the problem of sorting\n",
    "class Introduction(Scene):\n",
    "    def construct(self):\n",
    "        title = Text(\"Sorting Algorithms\").scale(1.5)\n",
    "        self.play(Write(title))\n",
    "        self.wait(1)\n",
    "        self.play(FadeOut(title))\n",
    "\n",
    "        problem = Text(\"Given a list of numbers, \\n sort them in ascending order.\").scale(1.5)\n",
    "        self.play(Write(problem))\n",
    "        self.wait(1)\n",
    "        self.play(FadeOut(problem))\n",
    "\n",
    "        self.wait(1)\n",
    "\n",
    "%manim -ql -v WARNING Introduction"
   ]
  },
  {
   "cell_type": "code",
   "execution_count": 14,
   "metadata": {},
   "outputs": [],
   "source": [
    "# Define an array object so that when it is animated it is a long rectangle with small squares inside\n",
    "class Array(Rectangle):\n",
    "    def __init__(self, values, **kwargs):\n",
    "        self.values = values # List of values in the array\n",
    "        self.n = len(values) # Number of elements in the array\n",
    "        \n",
    "        # Call the constructor of the parent class (Rectangle)\n",
    "        # Ensure the rectangle is large enough to contain all squares\n",
    "        super().__init__(width=self.n, height=1, **kwargs)\n",
    "\n",
    "        # Initialize the squares and texts\n",
    "        self.squares = VGroup()  # Group for squares\n",
    "        self.texts = VGroup()    # Group for text\n",
    "        \n",
    "        # Calculate the side length of each square based on the number of elements\n",
    "        square_side = self.width / self.n\n",
    "\n",
    "        # Create squares and texts for each value\n",
    "        for i, value in enumerate(self.values):\n",
    "            square = Square(side_length=square_side)\n",
    "            # Position each square within the rectangle\n",
    "            square.move_to(self.get_left() + RIGHT * square_side * (0.5 + i))\n",
    "            self.squares.add(square)\n",
    "\n",
    "            text = Text(str(value), font_size=36)\n",
    "            text.move_to(square.get_center())\n",
    "            self.texts.add(text)\n",
    "\n",
    "        # Add the squares and texts as submobjects\n",
    "        self.add(self.squares, self.texts)\n",
    "        \n",
    "    def update_array(self, new_values):\n",
    "        \"\"\" Update the array with new values. \"\"\"\n",
    "        self.values = new_values\n",
    "        for text, value in zip(self.texts, self.values):\n",
    "            text.set_text(str(value))\n",
    "    "
   ]
  },
  {
   "cell_type": "code",
   "execution_count": 20,
   "metadata": {},
   "outputs": [
    {
     "name": "stderr",
     "output_type": "stream",
     "text": [
      "                                                                \r"
     ]
    },
    {
     "data": {
      "text/html": [
       "<video src=\"media/jupyter/ArrayScene@2024-01-16@13-45-26.mp4\" controls autoplay loop style=\"max-width: 60%;\"  >\n",
       "      Your browser does not support the <code>video</code> element.\n",
       "    </video>"
      ],
      "text/plain": [
       "<IPython.core.display.Video object>"
      ]
     },
     "metadata": {},
     "output_type": "display_data"
    }
   ],
   "source": [
    "class ArrayScene(Scene):\n",
    "    def construct(self):\n",
    "        # Create the array object\n",
    "        array_values = [5, 3, 1, 2, 4]\n",
    "        array = Array(array_values)\n",
    "        \n",
    "        # Center the array in the scene\n",
    "        array.move_to(ORIGIN)\n",
    "        \n",
    "        # Animate the array\n",
    "        self.play(Write(array))\n",
    "        \n",
    "        self.wait()\n",
    "    \n",
    "%manim -ql -v WARNING ArrayScene"
   ]
  },
  {
   "cell_type": "code",
   "execution_count": 4,
   "metadata": {},
   "outputs": [],
   "source": [
    "class LatexArray(Rectangle):\n",
    "    def __init__(self, n, **kwargs):\n",
    "        self.n = n  # Number of elements in the array\n",
    "\n",
    "        # Call the constructor of the parent class (Rectangle)\n",
    "        super().__init__(width=self.n, height=1, **kwargs)\n",
    "\n",
    "        # Initialize the squares and texts\n",
    "        self.squares = VGroup()  # Group for squares\n",
    "        self.texts = VGroup()    # Group for text\n",
    "\n",
    "        # Calculate the side length of each square based on the number of elements\n",
    "        square_side = self.width / self.n\n",
    "\n",
    "        # Create squares and LaTeX texts for each value\n",
    "        for i in range(self.n):\n",
    "            square = Square(side_length=square_side)\n",
    "            # Position each square within the rectangle\n",
    "            square.move_to(self.get_left() + RIGHT * square_side * (0.5 + i))\n",
    "            self.squares.add(square)\n",
    "\n",
    "            #if i == 0:\n",
    "            #    latex_text = f\"a_{{{i+1}}}\"\n",
    "            #elif i == self.n - 1:\n",
    "            #    latex_text = f\"a_{{{i+1}}}\"\n",
    "            #else:\n",
    "            #    latex_text = \"\\\\dots\"\n",
    "            if i == self.n - 2:\n",
    "                latex_text = \"\\\\dots\"\n",
    "            elif i == self.n - 1:\n",
    "                latex_text = f\"a_{{n}}\"\n",
    "            else:\n",
    "                latex_text = f\"a_{{{i+1}}}\"\n",
    "                \n",
    "            \n",
    "            text = MathTex(latex_text, font_size=36)\n",
    "            text.move_to(square.get_center())\n",
    "            self.texts.add(text)\n",
    "\n",
    "        # Add the squares and texts as submobjects\n",
    "        self.add(self.squares, self.texts)\n",
    "\n",
    "    def update_array(self, new_values):\n",
    "        \"\"\" Update the array with new values. \"\"\"\n",
    "        # Implement the logic to update LaTeX text if needed\n",
    "        pass\n"
   ]
  },
  {
   "cell_type": "code",
   "execution_count": 5,
   "metadata": {},
   "outputs": [
    {
     "name": "stderr",
     "output_type": "stream",
     "text": [
      "                                                                               \r"
     ]
    },
    {
     "data": {
      "text/html": [
       "<video src=\"media/jupyter/LatexArrayScene@2024-01-16@19-53-46.mp4\" controls autoplay loop style=\"max-width: 60%;\"  >\n",
       "      Your browser does not support the <code>video</code> element.\n",
       "    </video>"
      ],
      "text/plain": [
       "<IPython.core.display.Video object>"
      ]
     },
     "metadata": {},
     "output_type": "display_data"
    }
   ],
   "source": [
    "class LatexArrayScene(Scene):\n",
    "    def construct(self):\n",
    "        # Create the array object\n",
    "        array = LatexArray(5)\n",
    "\n",
    "        # Center the array in the scene\n",
    "        array.move_to(ORIGIN)\n",
    "\n",
    "        # Animate the array\n",
    "        self.play(Write(array))\n",
    "\n",
    "        self.wait()\n",
    "\n",
    "%manim -ql -v WARNING LatexArrayScene"
   ]
  },
  {
   "cell_type": "markdown",
   "metadata": {},
   "source": [
    "# Why Learn Sorting?\n",
    "This is a fundamental problem in computer science and is likely the very first 'problem' you will confront when learning about Alrorithms and Data Structures.\n",
    "\n",
    "Algorithms as a field can be boiled down to the Science of Problem Solving. \n",
    "\n",
    "Sorting therefore, is a good introduction to the field, as it is a problem that is easy to understand, and has a wide range of applications."
   ]
  },
  {
   "cell_type": "code",
   "execution_count": 40,
   "metadata": {},
   "outputs": [
    {
     "name": "stderr",
     "output_type": "stream",
     "text": [
      "                                                                                                                                                                                                                             \r"
     ]
    },
    {
     "data": {
      "text/html": [
       "<video src=\"media/jupyter/FormalDefinition@2024-01-16@16-40-36.mp4\" controls autoplay loop style=\"max-width: 60%;\"  >\n",
       "      Your browser does not support the <code>video</code> element.\n",
       "    </video>"
      ],
      "text/plain": [
       "<IPython.core.display.Video object>"
      ]
     },
     "metadata": {},
     "output_type": "display_data"
    }
   ],
   "source": [
    "# Constructing a scene to introduce the formal definition of the sorting problem\n",
    "class OpeningScene(Scene):\n",
    "    def construct(self):\n",
    "        \n",
    "        # Create the definition\n",
    "        definition = Tex(r\"\"\"\n",
    "        \\textbf{Sorting Problem:} \\\\\n",
    "        Given a list of numbers $a_1, a_2, \\dots, a_n$, \\\\\n",
    "        sort them in ascending order.\n",
    "        \"\"\").scale(1.5)\n",
    "        self.play(Write(definition))\n",
    "        self.wait(1)\n",
    "        self.play(FadeOut(definition))\n",
    "        \n",
    "        # Move the above text up, fade out the title \"Sorting Problem\" keep the problem prompt\n",
    "        definition.shift(UP)\n",
    "        #self.play(FadeOut(definition[0]))\n",
    "        self.wait(1)\n",
    "        \n",
    "        # Using the Latex Array as this is a definition of the problem on a mathematical scale\n",
    "        array = LatexArray(5)\n",
    "        array.move_to(ORIGIN)\n",
    "        self.play(Write(array))\n",
    "        self.wait(1)\n",
    "        self.play(FadeOut(array))\n",
    "        \n",
    "    \n",
    "        \n",
    "%manim -ql -v WARNING FormalDefinition"
   ]
  },
  {
   "cell_type": "code",
   "execution_count": 227,
   "metadata": {},
   "outputs": [
    {
     "name": "stderr",
     "output_type": "stream",
     "text": [
      "                                                                                    \r"
     ]
    },
    {
     "data": {
      "image/png": "[encoded data removed]",
      "text/plain": [
       "<IPython.core.display.Image object>"
      ]
     },
     "metadata": {},
     "output_type": "display_data"
    }
   ],
   "source": [
    "from manim import *\n",
    "\n",
    "class Gear(VGroup):\n",
    "    def __init__(self, num_teeth=8, radius=1, tooth_size=0.1, **kwargs):\n",
    "        super().__init__(**kwargs)\n",
    "        self.radius = radius  # Store radius as an instance attribute\n",
    "        self.extended_radius = radius + tooth_size  # Include the tooth size in the extended radius\n",
    "        \n",
    "        # Main circle\n",
    "        circle = Circle(radius=self.radius)\n",
    "        self.add(circle)\n",
    "\n",
    "        # Teeth around the circle\n",
    "        for i in range(num_teeth):\n",
    "            angle = i * TAU / num_teeth\n",
    "            # Adding a small rectangle as a tooth\n",
    "            tooth = Rectangle(height=tooth_size, width=tooth_size*2)\n",
    "            tooth.set_fill(WHITE, opacity=1)\n",
    "            tooth.set_stroke(width=0)\n",
    "            tooth.next_to(circle, UP, buff=0)\n",
    "            tooth.rotate(angle, about_point=circle.get_center())\n",
    "            self.add(tooth)\n",
    "\n",
    "        # Central circle to cover overlapping parts\n",
    "        central_circle = Circle(radius=tooth_size*1.5)\n",
    "        central_circle.set_fill(BLACK, opacity=1)\n",
    "        self.add(central_circle)\n",
    "        \n",
    "        self.set_stroke(width=0)\n",
    "        self.set_fill(GREY_B, opacity=1)\n",
    "\n",
    "\n",
    "class GearBox(VGroup):\n",
    "    def __init__(self, **kwargs):\n",
    "        super().__init__(**kwargs)\n",
    "\n",
    "        # Create two gears\n",
    "        self.gear1 = Gear(num_teeth=15, radius=0.6, tooth_size=0.1)  # Larger gear\n",
    "        self.gear2 = Gear(num_teeth=8, radius=0.3, tooth_size=0.1)   # Smaller gear\n",
    "\n",
    "        # Calculate the total width and height needed for the box\n",
    "        buffer_space = 0.4  # Increased buffer space\n",
    "        total_width = self.gear1.extended_radius + self.gear2.extended_radius + buffer_space\n",
    "        total_height = total_width  # Making the box square\n",
    "\n",
    "        # Create the box, adjusting its size based on gears\n",
    "        box = RoundedRectangle(corner_radius=0.2, height=total_height+0.2, width=total_width+0.2)\n",
    "        self.add(box)\n",
    "\n",
    "        # Position gears in the desired corners\n",
    "        self.gear1.move_to(box.get_center() + LEFT * self.gear1.extended_radius / 2 + DOWN * self.gear1.extended_radius / 2)\n",
    "        self.gear2.move_to(box.get_center() + RIGHT * self.gear2.extended_radius / 2 + UP * self.gear2.extended_radius / 2)\n",
    "\n",
    "        self.add(self.gear1, self.gear2)\n",
    "        \n",
    "        # Create an upside-down trapezoid for input\n",
    "        trapezoid_height = 0.5\n",
    "        trapezoid_bottom_width = total_width / 2\n",
    "        trapezoid_top_width = total_width\n",
    "        trapezoid = Polygon(\n",
    "            box.get_top(),\n",
    "            box.get_top() + LEFT * trapezoid_top_width / 2,\n",
    "            box.get_top() + LEFT * trapezoid_bottom_width / 2 + UP * trapezoid_height,\n",
    "            box.get_top() + RIGHT * trapezoid_bottom_width / 2 + UP * trapezoid_height,\n",
    "            box.get_top() + RIGHT * trapezoid_top_width / 2,\n",
    "            color=WHITE,\n",
    "            fill_opacity=1\n",
    "        )\n",
    "        \n",
    "        self.trapezoid = trapezoid\n",
    "        \n",
    "        # Rotate and shift the trapezoid\n",
    "        rotation_angle = 180 * DEGREES  # Rotation angle (can be adjusted)\n",
    "        trapezoid.rotate(rotation_angle, about_point=trapezoid.get_center())\n",
    "        \n",
    "        shift_vector = DOWN * 0.2 + LEFT * 0.2 # Shift direction and magnitude (can be adjusted)\n",
    "        trapezoid.shift(shift_vector)\n",
    "        \n",
    "        self.add(trapezoid)\n",
    "        \n",
    "        # Create another trapezoid for output\n",
    "        trapezoid2_height = 0.5\n",
    "        trapezoid2_bottom_width = total_width / 2\n",
    "        trapezoid2_top_width = total_width\n",
    "        trapezoid2 = Polygon(\n",
    "            box.get_bottom(),\n",
    "            box.get_bottom() + LEFT * trapezoid2_top_width / 2,\n",
    "            box.get_bottom() + LEFT * trapezoid2_bottom_width / 2 + DOWN * trapezoid2_height,\n",
    "            box.get_bottom() + RIGHT * trapezoid2_bottom_width / 2 + DOWN * trapezoid2_height,\n",
    "            box.get_bottom() + RIGHT * trapezoid2_top_width / 2,\n",
    "            color=WHITE,\n",
    "            fill_opacity=1\n",
    "        )\n",
    "        \n",
    "        self.trapezoid2 = trapezoid2\n",
    "        \n",
    "        # Rotate and shift the trapezoid\n",
    "        rotation_angle = 180 * DEGREES  # Rotation angle (can be adjusted)\n",
    "        trapezoid2.rotate(rotation_angle, about_point=trapezoid2.get_center())\n",
    "        \n",
    "        shift_vector = DOWN * 0.2 + LEFT * 0.2\n",
    "        # Shift direction and magnitude (can be adjusted)\n",
    "        trapezoid2.shift(shift_vector)\n",
    "        \n",
    "        self.add(trapezoid2)\n",
    "\n",
    "        # Define the updater function for gear rotation\n",
    "        self.gear1.add_updater(lambda m, dt: m.rotate(TAU/8 * dt))\n",
    "        self.gear2.add_updater(lambda m, dt: m.rotate(-TAU/8 * dt * self.gear1.radius / self.gear2.radius))\n",
    "\n",
    "        box.shift(LEFT * 0.2)  # shift the box to the left and down a bit\n",
    "        box.shift(DOWN * 0.2)  # shift the box to the left and down a bit\n",
    "\n",
    "        \n",
    "class GearBoxScene(Scene):\n",
    "    def construct(self):\n",
    "        gearbox = GearBox()        \n",
    "        self.play(FadeIn(gearbox))\n",
    "        self.wait(5)\n",
    "        gearbox.gear1.clear_updaters()\n",
    "        gearbox.gear2.clear_updaters()\n",
    "        self.wait(1)\n",
    "\n",
    "# To run this scene, use the following command in your terminal:\n",
    "%manim -ql -s -v WARNING GearBoxScene"
   ]
  },
  {
   "cell_type": "markdown",
   "metadata": {},
   "source": [
    "# Scene Structure\n",
    "\n",
    "## Scene 1: Introduction\n",
    "Voiceover: \"What is an algorithm?\"\n",
    "Tex: \"Algorithm\"\n",
    "\n"
   ]
  },
  {
   "cell_type": "code",
   "execution_count": 254,
   "metadata": {},
   "outputs": [
    {
     "name": "stderr",
     "output_type": "stream",
     "text": [
      "                                                                                                          \r"
     ]
    },
    {
     "data": {
      "text/html": [
       "<video src=\"media/jupyter/OpeningScene@2024-01-21@15-04-15.mp4\" controls autoplay loop style=\"max-width: 60%;\"  >\n",
       "      Your browser does not support the <code>video</code> element.\n",
       "    </video>"
      ],
      "text/plain": [
       "<IPython.core.display.Video object>"
      ]
     },
     "metadata": {},
     "output_type": "display_data"
    }
   ],
   "source": [
    "class OpeningScene(Scene):\n",
    "    def construct(self):\n",
    "        # First, what is an Algorithm?\n",
    "        tx1 = Text(\"Algorithm\").scale(1.0)\n",
    "        self.play(Write(tx1))\n",
    "        self.wait(1)\n",
    "        \n",
    "        # Move the text up to the top of the scene\n",
    "        self.play(tx1.animate.shift(UP*3))\n",
    "        self.wait(1)\n",
    "        \n",
    "        # Introduce the concept of Inputs\n",
    "        input_text = Text(\"Inputs\", color=BLUE).next_to(tx1, DOWN * 0.5, buff=1)\n",
    "        self.play(Write(input_text))\n",
    "\n",
    "        # Create input circles\n",
    "        inputs = VGroup(*[Circle(color=BLUE).scale(0.2) for _ in range(3)])\n",
    "        inputs.arrange(RIGHT, buff=0.5)\n",
    "        inputs.next_to(input_text, DOWN)\n",
    "\n",
    "        # Create square brackets and variable label\n",
    "        left_bracket = Text(\"[\", color=WHITE).scale(1.5)\n",
    "        right_bracket = Text(\"]\", color=WHITE).scale(1.5)\n",
    "        variable_label = Text(\"x =\", color=WHITE).scale(0.7)\n",
    "\n",
    "        # Position the brackets and label\n",
    "        left_bracket.next_to(inputs, LEFT, buff=0.1)\n",
    "        right_bracket.next_to(inputs, RIGHT, buff=0.1)\n",
    "        variable_label.next_to(left_bracket, LEFT, buff=0.2).align_to(left_bracket, DOWN)\n",
    "\n",
    "        # Group the circles with the brackets\n",
    "        input_group = VGroup(left_bracket, inputs, right_bracket)\n",
    "        input_group.next_to(input_text, DOWN)\n",
    "\n",
    "        # Animate the creation of the inputs and brackets\n",
    "        self.play(LaggedStart(*[DrawBorderThenFill(obj) for obj in inputs], lag_ratio=0.5))\n",
    "        self.play(Write(left_bracket), Write(right_bracket), Write(variable_label))\n",
    "        \n",
    "        # Introduce the GearBox (Algorithm at Work)\n",
    "        gearbox = GearBox()\n",
    "        # Move the gear box to just below the inputs\n",
    "        gearbox.move_to(input_text.get_center() + DOWN*3.0)\n",
    "        self.play(FadeIn(gearbox))\n",
    "        \n",
    "        # Add 'f(x) =' Text next to the GearBox\n",
    "        function_label = Text(\"f(x) =\", color=WHITE).scale(0.7)\n",
    "        function_label.next_to(gearbox, LEFT, buff=0.4)\n",
    "        self.play(Write(function_label))\n",
    "        \n",
    "        # Animate the inputs and brackets being sucked into the gearbox\n",
    "        target_point = gearbox.trapezoid.get_center()\n",
    "        \n",
    "        # Animate the input_group being squeezed into the gearbox\n",
    "        self.play(\n",
    "            input_group.animate.scale(0.1).move_to(target_point),\n",
    "            run_time=1.5,\n",
    "            rate_func=linear\n",
    "        )\n",
    "        \n",
    "        # Fade out the variable label and input_group at the same time\n",
    "        self.play(\n",
    "            FadeOut(variable_label),\n",
    "            FadeOut(input_group),\n",
    "            run_time=0.1\n",
    "        )\n",
    "        \n",
    "        # Fade out the input_text and move the gear box and the function label up\n",
    "        self.play(\n",
    "            FadeOut(input_text),\n",
    "            gearbox.animate.shift(UP*1.5),\n",
    "            function_label.animate.shift(UP*1.5),\n",
    "            run_time=0.5\n",
    "        )\n",
    "        \n",
    "        # Create a new instance of the input_group, representing the transformed array\n",
    "        transformed_inputs = VGroup(*[Circle(color=BLUE).scale(0.2) for _ in range(3)])\n",
    "        transformed_inputs.arrange(RIGHT, buff=0.5)\n",
    "        \n",
    "        # Create square brackets\n",
    "        transformed_left_bracket = Text(\"[\", color=WHITE).scale(1.5)\n",
    "        transformed_right_bracket = Text(\"]\", color=WHITE).scale(1.5)\n",
    "        \n",
    "        # Position the brackets and label\n",
    "        transformed_left_bracket.next_to(transformed_inputs, LEFT, buff=0.1)\n",
    "        transformed_right_bracket.next_to(transformed_inputs, RIGHT, buff=0.1)\n",
    "       \n",
    "        transformed_group = VGroup(transformed_left_bracket, transformed_inputs, transformed_right_bracket)\n",
    "\n",
    "        # Position the transformed_group to emerge from the side of the gearbox\n",
    "        #transformed_group.next_to(gearbox, RIGHT, buff=1.0)\n",
    "        \n",
    "        # Initially scale down and position the transformed_group next to the gearbox\n",
    "        transformed_group.scale(0.1)  # Start very small\n",
    "        transformed_group.next_to(gearbox, RIGHT, buff=0.2)\n",
    "\n",
    "        # Animate the transformed_group expanding outwards from the gearbox\n",
    "        self.play(\n",
    "            transformed_group.animate.scale(10).next_to(gearbox, RIGHT, buff=0.5),\n",
    "            run_time=1,\n",
    "            rate_func=smooth\n",
    "        )\n",
    "        \n",
    "        # Loop through the circles in the transformed input array and randomly change their colors and shapes\n",
    "        for circle in transformed_inputs:\n",
    "            # Choose a random color and shape\n",
    "            random_color = random.choice([RED, GREEN, BLUE, YELLOW])\n",
    "            random_shape_class = random.choice([Circle, Square, Triangle])\n",
    "            \n",
    "            # Create a new shape of the chosen type, with the same size and position as the circle\n",
    "            new_shape = random_shape_class(color=random_color).scale(0.2)\n",
    "            new_shape.move_to(circle.get_center())\n",
    "\n",
    "            # Animate the transformation of the circle into the new shape\n",
    "            self.play(Transform(circle, new_shape), run_time=1)\n",
    "        \n",
    "        # Set target point as the center of the gearbox\n",
    "        target_point = gearbox.get_center()\n",
    "        \n",
    "        # Shrink the transformed_group back into the gearbox\n",
    "        self.play(\n",
    "            transformed_group.animate.scale(0.01).move_to(target_point),\n",
    "            run_time=1.0,\n",
    "            rate_func=linear\n",
    "        )\n",
    "        \n",
    "        # Fade out the transformed input_group \n",
    "        self.play(\n",
    "            FadeOut(transformed_group),\n",
    "            run_time=0.1\n",
    "        )\n",
    "        \n",
    "        # Regrow the transformed group from the bottom trapezoid of the gearbox\n",
    "        # Set the new target point for the bottom trapezoid of the gearbox\n",
    "        target_point = gearbox.trapezoid2.get_center() + DOWN*0.7\n",
    "\n",
    "        # Scale up the transformed_group from the new target point\n",
    "        self.play(\n",
    "            transformed_group.animate.scale(100).move_to(target_point),\n",
    "            run_time=1.0,\n",
    "            rate_func=linear\n",
    "        )\n",
    "        \n",
    "        self.wait(2)\n",
    "        \n",
    "        # Fade out the 'f(x)', the top and bottom trapezoids of the gearbox and the output group\n",
    "        self.play(\n",
    "            FadeOut(function_label),\n",
    "            FadeOut(gearbox.trapezoid),\n",
    "            FadeOut(gearbox.trapezoid2),\n",
    "            FadeOut(transformed_group),\n",
    "            run_time=0.3\n",
    "        )\n",
    "        \n",
    "        # Remove the trapezoids from the gearbox\n",
    "        gearbox.remove(gearbox.trapezoid)\n",
    "        gearbox.remove(gearbox.trapezoid2)\n",
    "        \n",
    "        # Move the gearbox down to its original position\n",
    "        self.play(\n",
    "            gearbox.animate.shift(DOWN*0.5),\n",
    "            run_time=0.5\n",
    "        )\n",
    "                \n",
    "        self.wait(1)\n",
    "        \n",
    "        # Lets take a look at what is happening inside of this gearbox\n",
    "        tx2 = Text(\"What's happening inside?\").scale(0.8)\n",
    "        tx2.shift(UP*2.0)\n",
    "        \n",
    "        self.play(Write(tx2))\n",
    "        \n",
    "        self.wait()\n",
    "        \n",
    "        self.play(\n",
    "            FadeOut(gearbox.gear1),\n",
    "            FadeOut(gearbox.gear2),\n",
    "        )\n",
    "        \n",
    "        # remove the gears from the gearbox\n",
    "        gearbox.remove(gearbox.gear1)\n",
    "        gearbox.remove(gearbox.gear2)\n",
    "        \n",
    "        # Fade out the text and expand the rounded square out of the bounds of the camera\n",
    "        self.play(\n",
    "            FadeOut(tx2, tx1),\n",
    "        )\n",
    "        \n",
    "        self.play(\n",
    "            gearbox.animate.scale(50.0),\n",
    "            run_time=1.0\n",
    "        )\n",
    "\n",
    "%manim -qh -v WARNING OpeningScene"
   ]
  },
  {
   "cell_type": "markdown",
   "metadata": {},
   "source": [
    "# Scene 2: Algorithms are mathematical\n",
    "\n",
    "Voiceover: \"The main idea I hope to convey here is that algorithms are mathematical. They are not just a bunch of steps to follow. They are a mathematical process that can be proven to work.\"\n",
    "\n",
    "Tex: \"Algorithm => Mathematical Process\"\n",
    "Tex: Converts to \"f(x)\""
   ]
  },
  {
   "cell_type": "code",
   "execution_count": 279,
   "metadata": {},
   "outputs": [
    {
     "name": "stderr",
     "output_type": "stream",
     "text": [
      "                                                                                            \r"
     ]
    },
    {
     "data": {
      "text/html": [
       "<video src=\"media/jupyter/AlgorithmsAreMathScene@2024-01-21@16-13-57.mp4\" controls autoplay loop style=\"max-width: 60%;\"  >\n",
       "      Your browser does not support the <code>video</code> element.\n",
       "    </video>"
      ],
      "text/plain": [
       "<IPython.core.display.Video object>"
      ]
     },
     "metadata": {},
     "output_type": "display_data"
    }
   ],
   "source": [
    "class AlgorithmsAreMathScene(Scene):\n",
    "    def construct(self):\n",
    "        # First, what is an Algorithm?\n",
    "        tx1 = Text(\"What is an Algorithm?\").scale(1.0)\n",
    "        \n",
    "        tx1.move_to(UP*2.5)\n",
    "        \n",
    "        self.play(Write(tx1))\n",
    "        \n",
    "        # Gearbox for visual effect\n",
    "        gearbox = GearBox()\n",
    "        # Remove the trapazoids from the gearbox\n",
    "        gearbox.remove(gearbox.trapezoid)\n",
    "        gearbox.remove(gearbox.trapezoid2)\n",
    "        gearbox.move_to(ORIGIN)\n",
    "        self.play(FadeIn(gearbox))\n",
    "\n",
    "        # Is it just code?\n",
    "        # Box for \"Just Code\"\n",
    "        code_box = RoundedRectangle(height=2, width=3, corner_radius=0.2)\n",
    "        code_box.color = YELLOW\n",
    "        code_box.to_edge(LEFT)\n",
    "        code_text = Text(\"{...}\", font=\"Monospace\", font_size=36)  # Represents generic code\n",
    "        code_text.move_to(code_box.get_center())\n",
    "        code_label = Text(\"Just Code?\", font_size=24).next_to(code_box, UP)\n",
    "\n",
    "        # Is it just a set of magical instructions?\n",
    "        # Box for \"Magical Instructions\"\n",
    "        magic_box = RoundedRectangle(height=2, width=3, corner_radius=0.2)\n",
    "        magic_box.set_color(RED)\n",
    "        magic_box.to_edge(RIGHT)\n",
    "        \n",
    "        # Simpler magic icon: A single star\n",
    "        magic_icon = Star(n=5, outer_radius=0.5, inner_radius=0.2, color=WHITE)\n",
    "        magic_icon.move_to(magic_box.get_center())\n",
    "\n",
    "        # Label for \"Magical Instructions\"\n",
    "        magic_label = Text(\"Magical Instructions?\", font_size=24).next_to(magic_box, UP)\n",
    "\n",
    "        # Add boxes, icons, and labels to the scene\n",
    "        \n",
    "        self.play(Create(code_box),\n",
    "                  Write(code_text),\n",
    "                  Write(code_label),\n",
    "                  run_time = 1.0\n",
    "                )\n",
    "        \n",
    "        self.play(Create(magic_box),\n",
    "                  Write(magic_icon),\n",
    "                  Write(magic_label),\n",
    "                  run_time = 1.0\n",
    "                )\n",
    "\n",
    "        self.wait(2)\n",
    "        \n",
    "                        \n",
    "    \n",
    "%manim -ql -v WARNING AlgorithmsAreMathScene"
   ]
  },
  {
   "cell_type": "code",
   "execution_count": null,
   "metadata": {},
   "outputs": [],
   "source": []
  }
 ],
 "metadata": {
  "kernelspec": {
   "display_name": "manim",
   "language": "python",
   "name": "python3"
  },
  "language_info": {
   "codemirror_mode": {
    "name": "ipython",
    "version": 3
   },
   "file_extension": ".py",
   "mimetype": "text/x-python",
   "name": "python",
   "nbconvert_exporter": "python",
   "pygments_lexer": "ipython3",
   "version": "3.11.5"
  }
 },
 "nbformat": 4,
 "nbformat_minor": 2
}
