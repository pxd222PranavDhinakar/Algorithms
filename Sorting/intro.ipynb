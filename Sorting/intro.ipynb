{
 "cells": [
  {
   "cell_type": "markdown",
   "metadata": {},
   "source": [
    "# What is Sorting?\n",
    "Sorting is the process of arranging a list of items in a particular order (i.e. ascending, descending, etc.)"
   ]
  },
  {
   "cell_type": "code",
   "execution_count": 2,
   "metadata": {},
   "outputs": [],
   "source": [
    "from manim import *"
   ]
  },
  {
   "cell_type": "code",
   "execution_count": 7,
   "metadata": {},
   "outputs": [
    {
     "name": "stderr",
     "output_type": "stream",
     "text": [
      "                                                                                                                                        \r"
     ]
    },
    {
     "data": {
      "text/html": [
       "<video src=\"media/jupyter/Introduction@2024-01-16@12-13-29.mp4\" controls autoplay loop style=\"max-width: 60%;\"  >\n",
       "      Your browser does not support the <code>video</code> element.\n",
       "    </video>"
      ],
      "text/plain": [
       "<IPython.core.display.Video object>"
      ]
     },
     "metadata": {},
     "output_type": "display_data"
    }
   ],
   "source": [
    "# Introducing the problem of sorting\n",
    "class Introduction(Scene):\n",
    "    def construct(self):\n",
    "        title = Text(\"Sorting Algorithms\").scale(1.5)\n",
    "        self.play(Write(title))\n",
    "        self.wait(1)\n",
    "        self.play(FadeOut(title))\n",
    "\n",
    "        problem = Text(\"Given a list of numbers, \\n sort them in ascending order.\").scale(1.5)\n",
    "        self.play(Write(problem))\n",
    "        self.wait(1)\n",
    "        self.play(FadeOut(problem))\n",
    "\n",
    "        self.wait(1)\n",
    "\n",
    "%manim -ql -v WARNING Introduction"
   ]
  },
  {
   "cell_type": "code",
   "execution_count": 14,
   "metadata": {},
   "outputs": [],
   "source": [
    "# Define an array object so that when it is animated it is a long rectangle with small squares inside\n",
    "class Array(Rectangle):\n",
    "    def __init__(self, values, **kwargs):\n",
    "        self.values = values # List of values in the array\n",
    "        self.n = len(values) # Number of elements in the array\n",
    "        \n",
    "        # Call the constructor of the parent class (Rectangle)\n",
    "        # Ensure the rectangle is large enough to contain all squares\n",
    "        super().__init__(width=self.n, height=1, **kwargs)\n",
    "\n",
    "        # Initialize the squares and texts\n",
    "        self.squares = VGroup()  # Group for squares\n",
    "        self.texts = VGroup()    # Group for text\n",
    "        \n",
    "        # Calculate the side length of each square based on the number of elements\n",
    "        square_side = self.width / self.n\n",
    "\n",
    "        # Create squares and texts for each value\n",
    "        for i, value in enumerate(self.values):\n",
    "            square = Square(side_length=square_side)\n",
    "            # Position each square within the rectangle\n",
    "            square.move_to(self.get_left() + RIGHT * square_side * (0.5 + i))\n",
    "            self.squares.add(square)\n",
    "\n",
    "            text = Text(str(value), font_size=36)\n",
    "            text.move_to(square.get_center())\n",
    "            self.texts.add(text)\n",
    "\n",
    "        # Add the squares and texts as submobjects\n",
    "        self.add(self.squares, self.texts)\n",
    "        \n",
    "    def update_array(self, new_values):\n",
    "        \"\"\" Update the array with new values. \"\"\"\n",
    "        self.values = new_values\n",
    "        for text, value in zip(self.texts, self.values):\n",
    "            text.set_text(str(value))\n",
    "    "
   ]
  },
  {
   "cell_type": "code",
   "execution_count": 20,
   "metadata": {},
   "outputs": [
    {
     "name": "stderr",
     "output_type": "stream",
     "text": [
      "                                                                \r"
     ]
    },
    {
     "data": {
      "text/html": [
       "<video src=\"media/jupyter/ArrayScene@2024-01-16@13-45-26.mp4\" controls autoplay loop style=\"max-width: 60%;\"  >\n",
       "      Your browser does not support the <code>video</code> element.\n",
       "    </video>"
      ],
      "text/plain": [
       "<IPython.core.display.Video object>"
      ]
     },
     "metadata": {},
     "output_type": "display_data"
    }
   ],
   "source": [
    "class ArrayScene(Scene):\n",
    "    def construct(self):\n",
    "        # Create the array object\n",
    "        array_values = [5, 3, 1, 2, 4]\n",
    "        array = Array(array_values)\n",
    "        \n",
    "        # Center the array in the scene\n",
    "        array.move_to(ORIGIN)\n",
    "        \n",
    "        # Animate the array\n",
    "        self.play(Write(array))\n",
    "        \n",
    "        self.wait()\n",
    "    \n",
    "%manim -ql -v WARNING ArrayScene"
   ]
  },
  {
   "cell_type": "code",
   "execution_count": 24,
   "metadata": {},
   "outputs": [],
   "source": [
    "class LatexArray(Rectangle):\n",
    "    def __init__(self, n, **kwargs):\n",
    "        self.n = n  # Number of elements in the array\n",
    "\n",
    "        # Call the constructor of the parent class (Rectangle)\n",
    "        super().__init__(width=self.n, height=1, **kwargs)\n",
    "\n",
    "        # Initialize the squares and texts\n",
    "        self.squares = VGroup()  # Group for squares\n",
    "        self.texts = VGroup()    # Group for text\n",
    "\n",
    "        # Calculate the side length of each square based on the number of elements\n",
    "        square_side = self.width / self.n\n",
    "\n",
    "        # Create squares and LaTeX texts for each value\n",
    "        for i in range(self.n):\n",
    "            square = Square(side_length=square_side)\n",
    "            # Position each square within the rectangle\n",
    "            square.move_to(self.get_left() + RIGHT * square_side * (0.5 + i))\n",
    "            self.squares.add(square)\n",
    "\n",
    "            if i == 0:\n",
    "                latex_text = f\"a_{{{i+1}}}\"\n",
    "            #elif i == self.n - 1:\n",
    "            #    latex_text = f\"a_{{{i+1}}}\"\n",
    "            #else:\n",
    "            #    latex_text = \"\\\\dots\"\n",
    "            else:\n",
    "                latex_text = f\"a_{{{i+1}}}\"\n",
    "            \n",
    "            text = MathTex(latex_text, font_size=36)\n",
    "            text.move_to(square.get_center())\n",
    "            self.texts.add(text)\n",
    "\n",
    "        # Add the squares and texts as submobjects\n",
    "        self.add(self.squares, self.texts)\n",
    "\n",
    "    def update_array(self, new_values):\n",
    "        \"\"\" Update the array with new values. \"\"\"\n",
    "        # Implement the logic to update LaTeX text if needed\n",
    "        pass\n"
   ]
  },
  {
   "cell_type": "code",
   "execution_count": 25,
   "metadata": {},
   "outputs": [
    {
     "name": "stderr",
     "output_type": "stream",
     "text": [
      "                                                                               \r"
     ]
    },
    {
     "data": {
      "text/html": [
       "<video src=\"media/jupyter/LatexArrayScene@2024-01-16@13-47-26.mp4\" controls autoplay loop style=\"max-width: 60%;\"  >\n",
       "      Your browser does not support the <code>video</code> element.\n",
       "    </video>"
      ],
      "text/plain": [
       "<IPython.core.display.Video object>"
      ]
     },
     "metadata": {},
     "output_type": "display_data"
    }
   ],
   "source": [
    "class LatexArrayScene(Scene):\n",
    "    def construct(self):\n",
    "        # Create the array object\n",
    "        array = LatexArray(5)\n",
    "\n",
    "        # Center the array in the scene\n",
    "        array.move_to(ORIGIN)\n",
    "\n",
    "        # Animate the array\n",
    "        self.play(Write(array))\n",
    "\n",
    "        self.wait()\n",
    "\n",
    "%manim -ql -v WARNING LatexArrayScene"
   ]
  },
  {
   "cell_type": "code",
   "execution_count": null,
   "metadata": {},
   "outputs": [],
   "source": []
  }
 ],
 "metadata": {
  "kernelspec": {
   "display_name": "manim",
   "language": "python",
   "name": "python3"
  },
  "language_info": {
   "codemirror_mode": {
    "name": "ipython",
    "version": 3
   },
   "file_extension": ".py",
   "mimetype": "text/x-python",
   "name": "python",
   "nbconvert_exporter": "python",
   "pygments_lexer": "ipython3",
   "version": "3.9.18"
  }
 },
 "nbformat": 4,
 "nbformat_minor": 2
}
