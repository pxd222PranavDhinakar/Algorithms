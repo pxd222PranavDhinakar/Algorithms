{
 "cells": [
  {
   "cell_type": "markdown",
   "metadata": {},
   "source": [
    "# What is Sorting?\n",
    "Sorting is the process of arranging a list of items in a particular order (i.e. ascending, descending, etc.)"
   ]
  },
  {
   "cell_type": "code",
   "execution_count": 2,
   "metadata": {},
   "outputs": [
    {
     "data": {
      "text/html": [
       "<pre style=\"white-space:pre;overflow-x:auto;line-height:normal;font-family:Menlo,'DejaVu Sans Mono',consolas,'Courier New',monospace\">Manim Community <span style=\"color: #008000; text-decoration-color: #008000\">v0.18.0</span>\n",
       "\n",
       "</pre>\n"
      ],
      "text/plain": [
       "Manim Community \u001b[32mv0.\u001b[0m\u001b[32m18.0\u001b[0m\n",
       "\n"
      ]
     },
     "metadata": {},
     "output_type": "display_data"
    }
   ],
   "source": [
    "from manim import *"
   ]
  },
  {
   "cell_type": "code",
   "execution_count": 7,
   "metadata": {},
   "outputs": [
    {
     "name": "stderr",
     "output_type": "stream",
     "text": [
      "                                                                                                                                        \r"
     ]
    },
    {
     "data": {
      "text/html": [
       "<video src=\"media/jupyter/Introduction@2024-01-16@12-13-29.mp4\" controls autoplay loop style=\"max-width: 60%;\"  >\n",
       "      Your browser does not support the <code>video</code> element.\n",
       "    </video>"
      ],
      "text/plain": [
       "<IPython.core.display.Video object>"
      ]
     },
     "metadata": {},
     "output_type": "display_data"
    }
   ],
   "source": [
    "# Introducing the problem of sorting\n",
    "class Introduction(Scene):\n",
    "    def construct(self):\n",
    "        title = Text(\"Sorting Algorithms\").scale(1.5)\n",
    "        self.play(Write(title))\n",
    "        self.wait(1)\n",
    "        self.play(FadeOut(title))\n",
    "\n",
    "        problem = Text(\"Given a list of numbers, \\n sort them in ascending order.\").scale(1.5)\n",
    "        self.play(Write(problem))\n",
    "        self.wait(1)\n",
    "        self.play(FadeOut(problem))\n",
    "\n",
    "        self.wait(1)\n",
    "\n",
    "%manim -ql -v WARNING Introduction"
   ]
  },
  {
   "cell_type": "code",
   "execution_count": 14,
   "metadata": {},
   "outputs": [],
   "source": [
    "# Define an array object so that when it is animated it is a long rectangle with small squares inside\n",
    "class Array(Rectangle):\n",
    "    def __init__(self, values, **kwargs):\n",
    "        self.values = values # List of values in the array\n",
    "        self.n = len(values) # Number of elements in the array\n",
    "        \n",
    "        # Call the constructor of the parent class (Rectangle)\n",
    "        # Ensure the rectangle is large enough to contain all squares\n",
    "        super().__init__(width=self.n, height=1, **kwargs)\n",
    "\n",
    "        # Initialize the squares and texts\n",
    "        self.squares = VGroup()  # Group for squares\n",
    "        self.texts = VGroup()    # Group for text\n",
    "        \n",
    "        # Calculate the side length of each square based on the number of elements\n",
    "        square_side = self.width / self.n\n",
    "\n",
    "        # Create squares and texts for each value\n",
    "        for i, value in enumerate(self.values):\n",
    "            square = Square(side_length=square_side)\n",
    "            # Position each square within the rectangle\n",
    "            square.move_to(self.get_left() + RIGHT * square_side * (0.5 + i))\n",
    "            self.squares.add(square)\n",
    "\n",
    "            text = Text(str(value), font_size=36)\n",
    "            text.move_to(square.get_center())\n",
    "            self.texts.add(text)\n",
    "\n",
    "        # Add the squares and texts as submobjects\n",
    "        self.add(self.squares, self.texts)\n",
    "        \n",
    "    def update_array(self, new_values):\n",
    "        \"\"\" Update the array with new values. \"\"\"\n",
    "        self.values = new_values\n",
    "        for text, value in zip(self.texts, self.values):\n",
    "            text.set_text(str(value))\n",
    "    "
   ]
  },
  {
   "cell_type": "code",
   "execution_count": 20,
   "metadata": {},
   "outputs": [
    {
     "name": "stderr",
     "output_type": "stream",
     "text": [
      "                                                                \r"
     ]
    },
    {
     "data": {
      "text/html": [
       "<video src=\"media/jupyter/ArrayScene@2024-01-16@13-45-26.mp4\" controls autoplay loop style=\"max-width: 60%;\"  >\n",
       "      Your browser does not support the <code>video</code> element.\n",
       "    </video>"
      ],
      "text/plain": [
       "<IPython.core.display.Video object>"
      ]
     },
     "metadata": {},
     "output_type": "display_data"
    }
   ],
   "source": [
    "class ArrayScene(Scene):\n",
    "    def construct(self):\n",
    "        # Create the array object\n",
    "        array_values = [5, 3, 1, 2, 4]\n",
    "        array = Array(array_values)\n",
    "        \n",
    "        # Center the array in the scene\n",
    "        array.move_to(ORIGIN)\n",
    "        \n",
    "        # Animate the array\n",
    "        self.play(Write(array))\n",
    "        \n",
    "        self.wait()\n",
    "    \n",
    "%manim -ql -v WARNING ArrayScene"
   ]
  },
  {
   "cell_type": "code",
   "execution_count": 4,
   "metadata": {},
   "outputs": [],
   "source": [
    "class LatexArray(Rectangle):\n",
    "    def __init__(self, n, **kwargs):\n",
    "        self.n = n  # Number of elements in the array\n",
    "\n",
    "        # Call the constructor of the parent class (Rectangle)\n",
    "        super().__init__(width=self.n, height=1, **kwargs)\n",
    "\n",
    "        # Initialize the squares and texts\n",
    "        self.squares = VGroup()  # Group for squares\n",
    "        self.texts = VGroup()    # Group for text\n",
    "\n",
    "        # Calculate the side length of each square based on the number of elements\n",
    "        square_side = self.width / self.n\n",
    "\n",
    "        # Create squares and LaTeX texts for each value\n",
    "        for i in range(self.n):\n",
    "            square = Square(side_length=square_side)\n",
    "            # Position each square within the rectangle\n",
    "            square.move_to(self.get_left() + RIGHT * square_side * (0.5 + i))\n",
    "            self.squares.add(square)\n",
    "\n",
    "            #if i == 0:\n",
    "            #    latex_text = f\"a_{{{i+1}}}\"\n",
    "            #elif i == self.n - 1:\n",
    "            #    latex_text = f\"a_{{{i+1}}}\"\n",
    "            #else:\n",
    "            #    latex_text = \"\\\\dots\"\n",
    "            if i == self.n - 2:\n",
    "                latex_text = \"\\\\dots\"\n",
    "            elif i == self.n - 1:\n",
    "                latex_text = f\"a_{{n}}\"\n",
    "            else:\n",
    "                latex_text = f\"a_{{{i+1}}}\"\n",
    "                \n",
    "            \n",
    "            text = MathTex(latex_text, font_size=36)\n",
    "            text.move_to(square.get_center())\n",
    "            self.texts.add(text)\n",
    "\n",
    "        # Add the squares and texts as submobjects\n",
    "        self.add(self.squares, self.texts)\n",
    "\n",
    "    def update_array(self, new_values):\n",
    "        \"\"\" Update the array with new values. \"\"\"\n",
    "        # Implement the logic to update LaTeX text if needed\n",
    "        pass\n"
   ]
  },
  {
   "cell_type": "code",
   "execution_count": 5,
   "metadata": {},
   "outputs": [
    {
     "name": "stderr",
     "output_type": "stream",
     "text": [
      "                                                                               \r"
     ]
    },
    {
     "data": {
      "text/html": [
       "<video src=\"media/jupyter/LatexArrayScene@2024-01-16@19-53-46.mp4\" controls autoplay loop style=\"max-width: 60%;\"  >\n",
       "      Your browser does not support the <code>video</code> element.\n",
       "    </video>"
      ],
      "text/plain": [
       "<IPython.core.display.Video object>"
      ]
     },
     "metadata": {},
     "output_type": "display_data"
    }
   ],
   "source": [
    "class LatexArrayScene(Scene):\n",
    "    def construct(self):\n",
    "        # Create the array object\n",
    "        array = LatexArray(5)\n",
    "\n",
    "        # Center the array in the scene\n",
    "        array.move_to(ORIGIN)\n",
    "\n",
    "        # Animate the array\n",
    "        self.play(Write(array))\n",
    "\n",
    "        self.wait()\n",
    "\n",
    "%manim -ql -v WARNING LatexArrayScene"
   ]
  },
  {
   "cell_type": "markdown",
   "metadata": {},
   "source": [
    "# Why Learn Sorting?\n",
    "This is a fundamental problem in computer science and is likely the very first 'problem' you will confront when learning about Alrorithms and Data Structures.\n",
    "\n",
    "Algorithms as a field can be boiled down to the Science of Problem Solving. \n",
    "\n",
    "Sorting therefore, is a good introduction to the field, as it is a problem that is easy to understand, and has a wide range of applications."
   ]
  },
  {
   "cell_type": "code",
   "execution_count": 40,
   "metadata": {},
   "outputs": [
    {
     "name": "stderr",
     "output_type": "stream",
     "text": [
      "                                                                                                                                                                                                                             \r"
     ]
    },
    {
     "data": {
      "text/html": [
       "<video src=\"media/jupyter/FormalDefinition@2024-01-16@16-40-36.mp4\" controls autoplay loop style=\"max-width: 60%;\"  >\n",
       "      Your browser does not support the <code>video</code> element.\n",
       "    </video>"
      ],
      "text/plain": [
       "<IPython.core.display.Video object>"
      ]
     },
     "metadata": {},
     "output_type": "display_data"
    }
   ],
   "source": [
    "# Constructing a scene to introduce the formal definition of the sorting problem\n",
    "class OpeningScene(Scene):\n",
    "    def construct(self):\n",
    "        \n",
    "        # Create the definition\n",
    "        definition = Tex(r\"\"\"\n",
    "        \\textbf{Sorting Problem:} \\\\\n",
    "        Given a list of numbers $a_1, a_2, \\dots, a_n$, \\\\\n",
    "        sort them in ascending order.\n",
    "        \"\"\").scale(1.5)\n",
    "        self.play(Write(definition))\n",
    "        self.wait(1)\n",
    "        self.play(FadeOut(definition))\n",
    "        \n",
    "        # Move the above text up, fade out the title \"Sorting Problem\" keep the problem prompt\n",
    "        definition.shift(UP)\n",
    "        #self.play(FadeOut(definition[0]))\n",
    "        self.wait(1)\n",
    "        \n",
    "        # Using the Latex Array as this is a definition of the problem on a mathematical scale\n",
    "        array = LatexArray(5)\n",
    "        array.move_to(ORIGIN)\n",
    "        self.play(Write(array))\n",
    "        self.wait(1)\n",
    "        self.play(FadeOut(array))\n",
    "        \n",
    "    \n",
    "        \n",
    "%manim -ql -v WARNING FormalDefinition"
   ]
  },
  {
   "cell_type": "code",
   "execution_count": null,
   "metadata": {},
   "outputs": [],
   "source": []
  }
 ],
 "metadata": {
  "kernelspec": {
   "display_name": "manim",
   "language": "python",
   "name": "python3"
  },
  "language_info": {
   "codemirror_mode": {
    "name": "ipython",
    "version": 3
   },
   "file_extension": ".py",
   "mimetype": "text/x-python",
   "name": "python",
   "nbconvert_exporter": "python",
   "pygments_lexer": "ipython3",
   "version": "3.11.5"
  }
 },
 "nbformat": 4,
 "nbformat_minor": 2
}
