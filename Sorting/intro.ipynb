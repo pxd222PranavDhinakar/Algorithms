{
 "cells": [
  {
   "cell_type": "markdown",
   "metadata": {},
   "source": [
    "# What is Sorting?\n",
    "Sorting is the process of arranging a list of items in a particular order (i.e. ascending, descending, etc.)"
   ]
  },
  {
   "cell_type": "code",
   "execution_count": 1,
   "metadata": {},
   "outputs": [
    {
     "data": {
      "text/html": [
       "<pre style=\"white-space:pre;overflow-x:auto;line-height:normal;font-family:Menlo,'DejaVu Sans Mono',consolas,'Courier New',monospace\">Manim Community <span style=\"color: #008000; text-decoration-color: #008000\">v0.18.0</span>\n",
       "\n",
       "</pre>\n"
      ],
      "text/plain": [
       "Manim Community \u001b[32mv0.\u001b[0m\u001b[32m18.0\u001b[0m\n",
       "\n"
      ]
     },
     "metadata": {},
     "output_type": "display_data"
    },
    {
     "name": "stdout",
     "output_type": "stream",
     "text": [
      "Could not import the PyAudio C module 'pyaudio._portaudio'.\n"
     ]
    },
    {
     "data": {
      "text/html": [
       "<pre style=\"white-space:pre;overflow-x:auto;line-height:normal;font-family:Menlo,'DejaVu Sans Mono',consolas,'Courier New',monospace\"><span style=\"color: #7fbfbf; text-decoration-color: #7fbfbf\">[01/17/24 17:11:58] </span><span style=\"color: #800000; text-decoration-color: #800000; font-weight: bold\">ERROR   </span> Missing packages. Run `pip install <span style=\"color: #008000; text-decoration-color: #008000\">\"manim-voiceover[recorder]\"</span>` to use  <a href=\"file:///Users/pranavdhinakar/opt/anaconda3/envs/manim/lib/python3.9/site-packages/manim_voiceover/services/recorder/__init__.py\" target=\"_blank\"><span style=\"color: #7f7f7f; text-decoration-color: #7f7f7f\">__init__.py</span></a><span style=\"color: #7f7f7f; text-decoration-color: #7f7f7f\">:</span><a href=\"file:///Users/pranavdhinakar/opt/anaconda3/envs/manim/lib/python3.9/site-packages/manim_voiceover/services/recorder/__init__.py#14\" target=\"_blank\"><span style=\"color: #7f7f7f; text-decoration-color: #7f7f7f\">14</span></a>\n",
       "<span style=\"color: #7fbfbf; text-decoration-color: #7fbfbf\">                    </span>         RecorderService.                                                        <span style=\"color: #7f7f7f; text-decoration-color: #7f7f7f\">              </span>\n",
       "</pre>\n"
      ],
      "text/plain": [
       "\u001b[2;36m[01/17/24 17:11:58]\u001b[0m\u001b[2;36m \u001b[0m\u001b[1;31mERROR   \u001b[0m Missing packages. Run `pip install \u001b[32m\"manim-voiceover\u001b[0m\u001b[32m[\u001b[0m\u001b[32mrecorder\u001b[0m\u001b[32m]\u001b[0m\u001b[32m\"\u001b[0m` to use  \u001b]8;id=701515;file:///Users/pranavdhinakar/opt/anaconda3/envs/manim/lib/python3.9/site-packages/manim_voiceover/services/recorder/__init__.py\u001b\\\u001b[2m__init__.py\u001b[0m\u001b]8;;\u001b\\\u001b[2m:\u001b[0m\u001b]8;id=433166;file:///Users/pranavdhinakar/opt/anaconda3/envs/manim/lib/python3.9/site-packages/manim_voiceover/services/recorder/__init__.py#14\u001b\\\u001b[2m14\u001b[0m\u001b]8;;\u001b\\\n",
       "\u001b[2;36m                    \u001b[0m         RecorderService.                                                        \u001b[2m              \u001b[0m\n"
      ]
     },
     "metadata": {},
     "output_type": "display_data"
    }
   ],
   "source": [
    "from manim import *\n",
    "from manim_voiceover import VoiceoverScene\n",
    "from manim_voiceover.services.recorder import RecorderService"
   ]
  },
  {
   "cell_type": "code",
   "execution_count": 7,
   "metadata": {},
   "outputs": [
    {
     "name": "stderr",
     "output_type": "stream",
     "text": [
      "                                                                                                                                        \r"
     ]
    },
    {
     "data": {
      "text/html": [
       "<video src=\"media/jupyter/Introduction@2024-01-16@12-13-29.mp4\" controls autoplay loop style=\"max-width: 60%;\"  >\n",
       "      Your browser does not support the <code>video</code> element.\n",
       "    </video>"
      ],
      "text/plain": [
       "<IPython.core.display.Video object>"
      ]
     },
     "metadata": {},
     "output_type": "display_data"
    }
   ],
   "source": [
    "# Introducing the problem of sorting\n",
    "class Introduction(Scene):\n",
    "    def construct(self):\n",
    "        title = Text(\"Sorting Algorithms\").scale(1.5)\n",
    "        self.play(Write(title))\n",
    "        self.wait(1)\n",
    "        self.play(FadeOut(title))\n",
    "\n",
    "        problem = Text(\"Given a list of numbers, \\n sort them in ascending order.\").scale(1.5)\n",
    "        self.play(Write(problem))\n",
    "        self.wait(1)\n",
    "        self.play(FadeOut(problem))\n",
    "\n",
    "        self.wait(1)\n",
    "\n",
    "%manim -ql -v WARNING Introduction"
   ]
  },
  {
   "cell_type": "code",
   "execution_count": 14,
   "metadata": {},
   "outputs": [],
   "source": [
    "# Define an array object so that when it is animated it is a long rectangle with small squares inside\n",
    "class Array(Rectangle):\n",
    "    def __init__(self, values, **kwargs):\n",
    "        self.values = values # List of values in the array\n",
    "        self.n = len(values) # Number of elements in the array\n",
    "        \n",
    "        # Call the constructor of the parent class (Rectangle)\n",
    "        # Ensure the rectangle is large enough to contain all squares\n",
    "        super().__init__(width=self.n, height=1, **kwargs)\n",
    "\n",
    "        # Initialize the squares and texts\n",
    "        self.squares = VGroup()  # Group for squares\n",
    "        self.texts = VGroup()    # Group for text\n",
    "        \n",
    "        # Calculate the side length of each square based on the number of elements\n",
    "        square_side = self.width / self.n\n",
    "\n",
    "        # Create squares and texts for each value\n",
    "        for i, value in enumerate(self.values):\n",
    "            square = Square(side_length=square_side)\n",
    "            # Position each square within the rectangle\n",
    "            square.move_to(self.get_left() + RIGHT * square_side * (0.5 + i))\n",
    "            self.squares.add(square)\n",
    "\n",
    "            text = Text(str(value), font_size=36)\n",
    "            text.move_to(square.get_center())\n",
    "            self.texts.add(text)\n",
    "\n",
    "        # Add the squares and texts as submobjects\n",
    "        self.add(self.squares, self.texts)\n",
    "        \n",
    "    def update_array(self, new_values):\n",
    "        \"\"\" Update the array with new values. \"\"\"\n",
    "        self.values = new_values\n",
    "        for text, value in zip(self.texts, self.values):\n",
    "            text.set_text(str(value))\n",
    "    "
   ]
  },
  {
   "cell_type": "code",
   "execution_count": 20,
   "metadata": {},
   "outputs": [
    {
     "name": "stderr",
     "output_type": "stream",
     "text": [
      "                                                                \r"
     ]
    },
    {
     "data": {
      "text/html": [
       "<video src=\"media/jupyter/ArrayScene@2024-01-16@13-45-26.mp4\" controls autoplay loop style=\"max-width: 60%;\"  >\n",
       "      Your browser does not support the <code>video</code> element.\n",
       "    </video>"
      ],
      "text/plain": [
       "<IPython.core.display.Video object>"
      ]
     },
     "metadata": {},
     "output_type": "display_data"
    }
   ],
   "source": [
    "class ArrayScene(Scene):\n",
    "    def construct(self):\n",
    "        # Create the array object\n",
    "        array_values = [5, 3, 1, 2, 4]\n",
    "        array = Array(array_values)\n",
    "        \n",
    "        # Center the array in the scene\n",
    "        array.move_to(ORIGIN)\n",
    "        \n",
    "        # Animate the array\n",
    "        self.play(Write(array))\n",
    "        \n",
    "        self.wait()\n",
    "    \n",
    "%manim -ql -v WARNING ArrayScene"
   ]
  },
  {
   "cell_type": "code",
   "execution_count": 32,
   "metadata": {},
   "outputs": [],
   "source": [
    "class LatexArray(Rectangle):\n",
    "    def __init__(self, n, **kwargs):\n",
    "        self.n = n  # Number of elements in the array\n",
    "\n",
    "        # Call the constructor of the parent class (Rectangle)\n",
    "        super().__init__(width=self.n, height=1, **kwargs)\n",
    "\n",
    "        # Initialize the squares and texts\n",
    "        self.squares = VGroup()  # Group for squares\n",
    "        self.texts = VGroup()    # Group for text\n",
    "\n",
    "        # Calculate the side length of each square based on the number of elements\n",
    "        square_side = self.width / self.n\n",
    "\n",
    "        # Create squares and LaTeX texts for each value\n",
    "        for i in range(self.n):\n",
    "            square = Square(side_length=square_side)\n",
    "            # Position each square within the rectangle\n",
    "            square.move_to(self.get_left() + RIGHT * square_side * (0.5 + i))\n",
    "            self.squares.add(square)\n",
    "\n",
    "            #if i == 0:\n",
    "            #    latex_text = f\"a_{{{i+1}}}\"\n",
    "            #elif i == self.n - 1:\n",
    "            #    latex_text = f\"a_{{{i+1}}}\"\n",
    "            #else:\n",
    "            #    latex_text = \"\\\\dots\"\n",
    "            if i == self.n - 2:\n",
    "                latex_text = \"\\\\dots\"\n",
    "            elif i == self.n - 1:\n",
    "                latex_text = f\"a_{{n}}\"\n",
    "            else:\n",
    "                latex_text = f\"a_{{{i+1}}}\"\n",
    "                \n",
    "            \n",
    "            text = MathTex(latex_text, font_size=36)\n",
    "            text.move_to(square.get_center())\n",
    "            self.texts.add(text)\n",
    "\n",
    "        # Add the squares and texts as submobjects\n",
    "        self.add(self.squares, self.texts)\n",
    "\n",
    "    def update_array(self, new_values):\n",
    "        \"\"\" Update the array with new values. \"\"\"\n",
    "        # Implement the logic to update LaTeX text if needed\n",
    "        pass\n"
   ]
  },
  {
   "cell_type": "code",
   "execution_count": 33,
   "metadata": {},
   "outputs": [
    {
     "name": "stderr",
     "output_type": "stream",
     "text": [
      "                                                                                \r"
     ]
    },
    {
     "data": {
      "text/html": [
       "<video src=\"media/jupyter/LatexArrayScene@2024-01-16@16-30-27.mp4\" controls autoplay loop style=\"max-width: 60%;\"  >\n",
       "      Your browser does not support the <code>video</code> element.\n",
       "    </video>"
      ],
      "text/plain": [
       "<IPython.core.display.Video object>"
      ]
     },
     "metadata": {},
     "output_type": "display_data"
    }
   ],
   "source": [
    "class LatexArrayScene(Scene):\n",
    "    def construct(self):\n",
    "        # Create the array object\n",
    "        array = LatexArray(5)\n",
    "\n",
    "        # Center the array in the scene\n",
    "        array.move_to(ORIGIN)\n",
    "\n",
    "        # Animate the array\n",
    "        self.play(Write(array))\n",
    "\n",
    "        self.wait()\n",
    "\n",
    "%manim -ql -v WARNING LatexArrayScene"
   ]
  },
  {
   "cell_type": "code",
   "execution_count": 40,
   "metadata": {},
   "outputs": [
    {
     "name": "stderr",
     "output_type": "stream",
     "text": [
      "                                                                                                                                                                                                                             \r"
     ]
    },
    {
     "data": {
      "text/html": [
       "<video src=\"media/jupyter/FormalDefinition@2024-01-16@16-40-36.mp4\" controls autoplay loop style=\"max-width: 60%;\"  >\n",
       "      Your browser does not support the <code>video</code> element.\n",
       "    </video>"
      ],
      "text/plain": [
       "<IPython.core.display.Video object>"
      ]
     },
     "metadata": {},
     "output_type": "display_data"
    }
   ],
   "source": [
    "# Constructing a scene to introduce the formal definition of the sorting problem\n",
    "class FormalDefinition(Scene):\n",
    "    def construct(self):\n",
    "        \n",
    "        # Create the definition\n",
    "        definition = Tex(r\"\"\"\n",
    "        \\textbf{Sorting Problem:} \\\\\n",
    "        Given a list of numbers $a_1, a_2, \\dots, a_n$, \\\\\n",
    "        sort them in ascending order.\n",
    "        \"\"\").scale(1.5)\n",
    "        self.play(Write(definition))\n",
    "        self.wait(1)\n",
    "        self.play(FadeOut(definition))\n",
    "        \n",
    "        # Move the above text up, fade out the title \"Sorting Problem\" keep the problem prompt\n",
    "        definition.shift(UP)\n",
    "        #self.play(FadeOut(definition[0]))\n",
    "        self.wait(1)\n",
    "        \n",
    "        # Using the Latex Array as this is a definitio of the problem on a mathematical scale\n",
    "        array = LatexArray(5)\n",
    "        array.move_to(ORIGIN)\n",
    "        self.play(Write(array))\n",
    "        self.wait(1)\n",
    "        self.play(FadeOut(array))\n",
    "        \n",
    "    \n",
    "        \n",
    "%manim -ql -v WARNING FormalDefinition"
   ]
  },
  {
   "cell_type": "code",
   "execution_count": 65,
   "metadata": {},
   "outputs": [
    {
     "name": "stderr",
     "output_type": "stream",
     "text": [
      "                                                                                    \r"
     ]
    },
    {
     "data": {
      "text/html": [
       "<video src=\"media/jupyter/GearBoxScene@2024-01-17@18-24-01.mp4\" controls autoplay loop style=\"max-width: 60%;\"  >\n",
       "      Your browser does not support the <code>video</code> element.\n",
       "    </video>"
      ],
      "text/plain": [
       "<IPython.core.display.Video object>"
      ]
     },
     "metadata": {},
     "output_type": "display_data"
    }
   ],
   "source": [
    "from manim import *\n",
    "\n",
    "class Gear(VGroup):\n",
    "    def __init__(self, num_teeth=8, radius=1, tooth_size=0.1, **kwargs):\n",
    "        super().__init__(**kwargs)\n",
    "        self.radius = radius  # Store radius as an instance attribute\n",
    "        self.extended_radius = radius + tooth_size  # Include the tooth size in the extended radius\n",
    "        \n",
    "        # Main circle\n",
    "        circle = Circle(radius=self.radius)\n",
    "        self.add(circle)\n",
    "\n",
    "        # Teeth around the circle\n",
    "        for i in range(num_teeth):\n",
    "            angle = i * TAU / num_teeth\n",
    "            # Adding a small rectangle as a tooth\n",
    "            tooth = Rectangle(height=tooth_size, width=tooth_size*2)\n",
    "            tooth.set_fill(WHITE, opacity=1)\n",
    "            tooth.set_stroke(width=0)\n",
    "            tooth.next_to(circle, UP, buff=0)\n",
    "            tooth.rotate(angle, about_point=circle.get_center())\n",
    "            self.add(tooth)\n",
    "\n",
    "        # Central circle to cover overlapping parts\n",
    "        central_circle = Circle(radius=tooth_size*1.5)\n",
    "        central_circle.set_fill(BLACK, opacity=1)\n",
    "        self.add(central_circle)\n",
    "        \n",
    "        self.set_stroke(width=0)\n",
    "        self.set_fill(GREY_B, opacity=1)\n",
    "\n",
    "\n",
    "class GearBox(VGroup):\n",
    "    def __init__(self, **kwargs):\n",
    "        super().__init__(**kwargs)\n",
    "\n",
    "        # Create two gears\n",
    "        self.gear1 = Gear(num_teeth=15, radius=0.6, tooth_size=0.1)  # Larger gear\n",
    "        self.gear2 = Gear(num_teeth=8, radius=0.3, tooth_size=0.1)   # Smaller gear\n",
    "\n",
    "        # Calculate the total width and height needed for the box\n",
    "        buffer_space = 0.4  # Increased buffer space\n",
    "        total_width = self.gear1.extended_radius + self.gear2.extended_radius + buffer_space\n",
    "        total_height = total_width  # Making the box square\n",
    "\n",
    "        # Create the box, adjusting its size based on gears\n",
    "        box = RoundedRectangle(corner_radius=0.2, height=total_height+0.2, width=total_width+0.2)\n",
    "        self.add(box)\n",
    "\n",
    "        # Position gears in the desired corners\n",
    "        self.gear1.move_to(box.get_center() + LEFT * self.gear1.extended_radius / 2 + DOWN * self.gear1.extended_radius / 2)\n",
    "        self.gear2.move_to(box.get_center() + RIGHT * self.gear2.extended_radius / 2 + UP * self.gear2.extended_radius / 2)\n",
    "\n",
    "        self.add(self.gear1, self.gear2)\n",
    "\n",
    "        # Define the updater function for gear rotation\n",
    "        self.gear1.add_updater(lambda m, dt: m.rotate(TAU/8 * dt))\n",
    "        self.gear2.add_updater(lambda m, dt: m.rotate(-TAU/8 * dt * self.gear1.radius / self.gear2.radius))\n",
    "\n",
    "        box.shift(LEFT * 0.2)  # shift the box to the left and down a bit\n",
    "        box.shift(DOWN * 0.2)  # shift the box to the left and down a bit\n",
    "\n",
    "        \n",
    "class GearBoxScene(Scene):\n",
    "    def construct(self):\n",
    "        gearbox = GearBox()        \n",
    "        self.play(FadeIn(gearbox))\n",
    "        self.wait(5)\n",
    "        gearbox.gear1.clear_updaters()\n",
    "        gearbox.gear2.clear_updaters()\n",
    "        self.wait(1)\n",
    "\n",
    "# To run this scene, use the following command in your terminal:\n",
    "%manim -ql -v WARNING GearBoxScene"
   ]
  },
  {
   "cell_type": "markdown",
   "metadata": {},
   "source": [
    "# Scene Structure\n",
    "\n",
    "## Scene 1: Introduction\n",
    "Voiceover: \"What is an algorithm?\"\n",
    "Tex: \"Algorithm\""
   ]
  },
  {
   "cell_type": "code",
   "execution_count": 92,
   "metadata": {},
   "outputs": [
    {
     "name": "stderr",
     "output_type": "stream",
     "text": [
      "                                                                                              \r"
     ]
    },
    {
     "data": {
      "text/html": [
       "<video src=\"media/jupyter/OpeningScene@2024-01-17@19-12-48.mp4\" controls autoplay loop style=\"max-width: 60%;\"  >\n",
       "      Your browser does not support the <code>video</code> element.\n",
       "    </video>"
      ],
      "text/plain": [
       "<IPython.core.display.Video object>"
      ]
     },
     "metadata": {},
     "output_type": "display_data"
    }
   ],
   "source": [
    "class OpeningScene(Scene):\n",
    "    def construct(self):\n",
    "        # First, what is an Algorithm?\n",
    "        tx1 = Text(\"Algorithm\").scale(1.0)\n",
    "        self.play(Write(tx1))\n",
    "        self.wait(1)\n",
    "        \n",
    "        # Move the text up to the top of the scene\n",
    "        self.play(tx1.animate.shift(UP*3))\n",
    "        self.wait(1)\n",
    "        \n",
    "        # Introduce the concept of Inputs\n",
    "        input_text = Text(\"Inputs\", color=BLUE).next_to(tx1, DOWN * 0.8, buff=1)\n",
    "        self.play(Write(input_text))\n",
    "\n",
    "        # Create input circles\n",
    "        inputs = VGroup(*[Circle(color=BLUE).scale(0.2) for _ in range(3)])\n",
    "        inputs.arrange(RIGHT, buff=0.5)\n",
    "        inputs.next_to(input_text, DOWN)\n",
    "\n",
    "        # Create square brackets and variable label\n",
    "        left_bracket = Text(\"[\", color=WHITE).scale(1.5)\n",
    "        right_bracket = Text(\"]\", color=WHITE).scale(1.5)\n",
    "        variable_label = Text(\"x =\", color=WHITE).scale(0.7)\n",
    "\n",
    "        # Position the brackets and label\n",
    "        left_bracket.next_to(inputs, LEFT, buff=0.1)\n",
    "        right_bracket.next_to(inputs, RIGHT, buff=0.1)\n",
    "        variable_label.next_to(left_bracket, LEFT, buff=0.2).align_to(left_bracket, DOWN)\n",
    "\n",
    "        # Group the circles with the brackets\n",
    "        input_group = VGroup(left_bracket, inputs, right_bracket)\n",
    "        input_group.next_to(input_text, DOWN)\n",
    "\n",
    "        # Animate the creation of the inputs and brackets\n",
    "        self.play(LaggedStart(*[DrawBorderThenFill(obj) for obj in inputs], lag_ratio=0.5))\n",
    "        self.play(Write(left_bracket), Write(right_bracket), Write(variable_label))\n",
    "\n",
    "        \n",
    "        # Introduce the GearBox (Algorithm at Work)\n",
    "        gearbox = GearBox()\n",
    "        # Move the gear box to just below the inputs\n",
    "        gearbox.move_to(input_text.get_center() + DOWN*3.0)\n",
    "        \n",
    "        self.play(FadeIn(gearbox))\n",
    "        #self.play(Draw(gearbox))\n",
    "\n",
    "        self.wait(1)\n",
    "\n",
    "        # Animate Inputs Moving Towards the GearBox\n",
    "        #for circle in inputs:\n",
    "        #    self.play(circle.animate.move_to(gearbox.get_center() + UP*0.5))\n",
    "        #    # Fade out each circle as it reaches the gear box\n",
    "        #    self.play(FadeOut(circle))\n",
    "        #self.wait(1)\n",
    "        \n",
    "        #self.wait(2)\n",
    "\n",
    "%manim -qh -v WARNING OpeningScene"
   ]
  },
  {
   "cell_type": "code",
   "execution_count": null,
   "metadata": {},
   "outputs": [],
   "source": []
  }
 ],
 "metadata": {
  "kernelspec": {
   "display_name": "manim",
   "language": "python",
   "name": "python3"
  },
  "language_info": {
   "codemirror_mode": {
    "name": "ipython",
    "version": 3
   },
   "file_extension": ".py",
   "mimetype": "text/x-python",
   "name": "python",
   "nbconvert_exporter": "python",
   "pygments_lexer": "ipython3",
   "version": "3.9.18"
  }
 },
 "nbformat": 4,
 "nbformat_minor": 2
}
