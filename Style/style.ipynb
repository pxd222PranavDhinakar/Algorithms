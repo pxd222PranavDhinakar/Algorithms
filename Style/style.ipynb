{
 "cells": [
  {
   "cell_type": "markdown",
   "metadata": {},
   "source": [
    "## Figuring out how to make the logo\n",
    "### =================================\n",
    "I want to have a rounded box with two divided sections, the left side is an illustration of P-level Complexity and the right side is an illustration of NP-level Complexity"
   ]
  },
  {
   "cell_type": "code",
   "execution_count": null,
   "metadata": {},
   "outputs": [],
   "source": []
  },
  {
   "cell_type": "markdown",
   "metadata": {},
   "source": [
    "Creating an animated logo in Manim for your YouTube channel \"P to NP\" sounds like an exciting project. Here's a step-by-step guide on how to create such a logo with divided sections representing P-level and NP-level complexities:\n",
    "\n",
    "### 1. **Setting up the Rounded Box**\n",
    "   - Use Manim's `RoundedRectangle` class to create a rounded box.\n",
    "   - Specify the height, width, and corner radius to your preference.\n",
    "   - You can also choose a color for the border of the box.\n",
    "\n",
    "### 2. **Dividing the Box into Two Sections**\n",
    "   - Use the `Line` class to draw a vertical line down the middle of the rectangle.\n",
    "   - This line will divide the box into two sections representing P and NP complexities.\n",
    "\n",
    "### 3. **Illustrating P-level Complexity (Left Side)**\n",
    "   - For the P-level complexity, you might want to depict something orderly and solvable in polynomial time.\n",
    "   - An idea could be to show a simple maze or a sorted array of numbers.\n",
    "   - Use shapes like squares, circles, or arrows to represent the ordered, solvable nature of P problems.\n",
    "\n",
    "### 4. **Illustrating NP-level Complexity (Right Side)**\n",
    "   - NP-level complexity can be illustrated with something more complex or seemingly unsolvable at first glance.\n",
    "   - Consider using a complex graph, a jigsaw puzzle, or an unsolved Rubik's cube.\n",
    "   - The shapes here can be more intricate and interwoven, indicating complexity.\n",
    "\n",
    "### 5. **Adding Text Labels**\n",
    "   - Use the `Text` class to add labels \"P\" and \"NP\" to the respective sides of the box.\n",
    "   - You may also add a brief description or a catchy phrase that relates to algorithms.\n",
    "\n",
    "### 6. **Animating the Logo**\n",
    "   - Utilize various animation classes like `FadeIn`, `GrowFromCenter`, or `DrawBorderThenFill` to animate the entrance of each element.\n",
    "   - You can also animate the division line and the transformation from P to NP to make it dynamic.\n",
    "\n",
    "### 7. **Adding Final Touches**\n",
    "   - Consider adding some background music or sound effects if the logo animation is standalone.\n",
    "   - Tweak the timing, colors, and transitions to ensure the logo is engaging and represents the theme of your channel effectively.\n",
    "\n",
    "### 8. **Exporting the Animation**\n",
    "   - Once you are satisfied with the animation, export it in a suitable format for your YouTube channel.\n",
    "\n",
    "Remember, Manim requires a good understanding of Python programming. If you're new to Manim, start with simpler animations to get a feel for how the library works. Good luck with your \"P to NP\" YouTube channel!"
   ]
  },
  {
   "cell_type": "markdown",
   "metadata": {},
   "source": [
    "## Color Pallete\n",
    "### =================================\n",
    "I want the channel's color pallete to range from dark red to lighter shades of red. The darkest being near crimson or burgundy and the lightest being near rose."
   ]
  },
  {
   "cell_type": "code",
   "execution_count": 2,
   "metadata": {},
   "outputs": [
    {
     "name": "stderr",
     "output_type": "stream",
     "text": [
      "                                                                                     \r"
     ]
    },
    {
     "data": {
      "text/html": [
       "<video src=\"media/jupyter/ColorPaletteDemo@2024-01-21@16-28-36.mp4\" controls autoplay loop style=\"max-width: 60%;\"  >\n",
       "      Your browser does not support the <code>video</code> element.\n",
       "    </video>"
      ],
      "text/plain": [
       "<IPython.core.display.Video object>"
      ]
     },
     "metadata": {},
     "output_type": "display_data"
    }
   ],
   "source": [
    "from manim import *\n",
    "\n",
    "class ColorPaletteDemo(Scene):\n",
    "    def construct(self):\n",
    "        # Define the colors in your palette\n",
    "        #colors = [\"#800000\",  # Crimson/Burgundy\n",
    "        #          \"#A52A2A\",  # Slightly lighter shade\n",
    "        #          \"#C71585\",  # Medium shade\n",
    "        #          \"#DB7093\",  # Light shade (rose)\n",
    "        #          \"#FFC0CB\"]  # Lightest shade (light rose)\n",
    "        colors = [\n",
    "            \"#800000\",  # Crimson/Burgundy\n",
    "            \"#A52A2A\",  # Slightly lighter shade\n",
    "            \"#C04040\",  # Medium shade\n",
    "            \"#D06060\",  # Light shade\n",
    "            \"#E08080\"   # Lightest shade, not too light\n",
    "        ]\n",
    "\n",
    "\n",
    "        # Create rectangles for each color\n",
    "        rects = [Rectangle(color=color, height=1, width=2).set_fill(color, opacity=1) for color in colors]\n",
    "\n",
    "        # Arrange rectangles in a row\n",
    "        palette = VGroup(*rects).arrange(RIGHT, buff=0)\n",
    "\n",
    "        # Animate the display of the color palette\n",
    "        self.play(LaggedStart(*[DrawBorderThenFill(rect) for rect in rects], lag_ratio=0.5))\n",
    "        self.wait(2)\n",
    "\n",
    "        # Add labels to each color\n",
    "        for rect, color in zip(rects, colors):\n",
    "            label = Text(color, font_size=24, color=WHITE).move_to(rect)\n",
    "            self.play(Write(label))\n",
    "\n",
    "        self.wait(2)\n",
    "\n",
    "%manim -qh -v WARNING ColorPaletteDemo"
   ]
  },
  {
   "cell_type": "code",
   "execution_count": 8,
   "metadata": {},
   "outputs": [
    {
     "name": "stderr",
     "output_type": "stream",
     "text": [
      "                                                                                             \r"
     ]
    },
    {
     "data": {
      "text/html": [
       "<video src=\"media/jupyter/GradientBox@2024-01-21@16-32-16.mp4\" controls autoplay loop style=\"max-width: 60%;\"  >\n",
       "      Your browser does not support the <code>video</code> element.\n",
       "    </video>"
      ],
      "text/plain": [
       "<IPython.core.display.Video object>"
      ]
     },
     "metadata": {},
     "output_type": "display_data"
    }
   ],
   "source": [
    "from manim import *\n",
    "\n",
    "class GradientBox(Scene):\n",
    "    def construct(self):\n",
    "        # Colors for the gradient\n",
    "        gradient_colors = [\n",
    "            \"#800000\",  # Dark Red\n",
    "            \"#8B2323\",  # Slightly lighter shade\n",
    "            \"#972626\",  # Intermediate shade\n",
    "            \"#A52A2A\",  # Intermediate shade\n",
    "            \"#B22222\",  # Lighter shade\n",
    "            \"#C04040\",  # Lighter shade\n",
    "            \"#D06060\",  # Even lighter shade\n",
    "            \"#E08080\",  # Near the lightest shade\n",
    "        ]\n",
    "\n",
    "        # Create rectangles for each color in the gradient\n",
    "        gradient_rects = [Rectangle(height=4, width=0.75, color=color, fill_opacity=1) for color in gradient_colors]\n",
    "\n",
    "        # Arrange the rectangles to form a gradient\n",
    "        gradient_box = VGroup(*gradient_rects).arrange(RIGHT, buff=0)\n",
    "\n",
    "        # Display the gradient box\n",
    "        self.play(FadeIn(gradient_box))\n",
    "        self.wait(2)\n",
    "\n",
    "\n",
    "%manim -qh -v WARNING GradientBox"
   ]
  },
  {
   "cell_type": "code",
   "execution_count": null,
   "metadata": {},
   "outputs": [],
   "source": []
  }
 ],
 "metadata": {
  "kernelspec": {
   "display_name": "manim",
   "language": "python",
   "name": "python3"
  },
  "language_info": {
   "codemirror_mode": {
    "name": "ipython",
    "version": 3
   },
   "file_extension": ".py",
   "mimetype": "text/x-python",
   "name": "python",
   "nbconvert_exporter": "python",
   "pygments_lexer": "ipython3",
   "version": "3.9.18"
  }
 },
 "nbformat": 4,
 "nbformat_minor": 2
}
